{
 "cells": [
  {
   "cell_type": "code",
   "execution_count": 2,
   "id": "85ec82d1",
   "metadata": {},
   "outputs": [],
   "source": [
    "import sys\n",
    "import os\n",
    "import argparse\n",
    "import random\n",
    "\n",
    "SCRIPT_DIR = os.getcwd()\n",
    "PROJECT_ROOT = os.path.dirname(SCRIPT_DIR)\n",
    "SRC_DIR = os.path.join(PROJECT_ROOT, \"src\")\n",
    "if SRC_DIR not in sys.path:\n",
    "    sys.path.append(SRC_DIR)\n",
    "\n",
    "# Third-party\n",
    "import numpy as np\n",
    "import torch\n",
    "import tensorflow as tf\n",
    "from datasets import load_dataset\n",
    "import ipynbname\n",
    "\n",
    "# Communication\n",
    "from basestation import User, EdgeServer\n",
    "from user_association import uncertainty_aware_offloading\n",
    "from utils import (\n",
    "    estimate_workload,\n",
    "    measure_inference_delay,\n",
    "    generate_rayleigh_coeffs,\n",
    "    bit_size_text,\n",
    ")\n",
    "from config import (\n",
    "    BANDWIDTH,\n",
    "    TRANSMIT_POWER,\n",
    "    NOISE_POWER,\n",
    "    LOCAL_COMPUTE_CAP,\n",
    "    EDGE_COMPUTE_CAP,\n",
    "    MAX_COMPUTE_PER_USER,\n",
    "    SLM,\n",
    "    LLM,\n",
    "    K,\n",
    ")\n",
    "\n",
    "# LLM\n",
    "from model.huggingface_model import HuggingfaceModel\n",
    "from model import get_model"
   ]
  },
  {
   "cell_type": "code",
   "execution_count": 3,
   "id": "eeab4b4a",
   "metadata": {},
   "outputs": [],
   "source": [
    "model = get_model(SLM)"
   ]
  },
  {
   "cell_type": "code",
   "execution_count": 4,
   "id": "eb001345",
   "metadata": {},
   "outputs": [
    {
     "name": "stderr",
     "output_type": "stream",
     "text": [
      "Repo card metadata block was not found. Setting CardData to empty.\n"
     ]
    }
   ],
   "source": [
    "dataset = load_dataset(\"Muennighoff/babi\", split=\"train\")"
   ]
  },
  {
   "cell_type": "code",
   "execution_count": 5,
   "id": "ccaba140",
   "metadata": {},
   "outputs": [
    {
     "name": "stdout",
     "output_type": "stream",
     "text": [
      "Mary moved to the bathroom.\n",
      "John went to the hallway.\n",
      "\n",
      "Where is Mary?\n"
     ]
    }
   ],
   "source": [
    "print(dataset[\"passage\"][0])\n",
    "print(dataset[\"question\"][0])"
   ]
  },
  {
   "cell_type": "code",
   "execution_count": null,
   "id": "3f47f255",
   "metadata": {},
   "outputs": [
    {
     "data": {
      "text/plain": [
       "'Context: Mary moved to the bathroom.\\nJohn went to the hallway.\\nQuestion: Where is Mary?\\nAnswer: '"
      ]
     },
     "execution_count": 11,
     "metadata": {},
     "output_type": "execute_result"
    }
   ],
   "source": [
    "passage = dataset[\"passage\"][0]\n",
    "question = dataset[\"question\"][0]\n",
    "answer = dataset[\"answer\"][0]\n",
    "input = f\"Context: {passage.strip()}\\n\" f\"Question: {question.strip()}\\n\" f\"Answer: \"\n",
    "input"
   ]
  },
  {
   "cell_type": "code",
   "execution_count": 12,
   "id": "62993398",
   "metadata": {},
   "outputs": [],
   "source": [
    "output = model.generate(input)"
   ]
  },
  {
   "cell_type": "code",
   "execution_count": 13,
   "id": "ae1e12c0",
   "metadata": {},
   "outputs": [],
   "source": [
    "topk = model.topk_probs(dataset[\"question\"][0], 10)"
   ]
  },
  {
   "cell_type": "code",
   "execution_count": 14,
   "id": "401caa51",
   "metadata": {},
   "outputs": [
    {
     "data": {
      "text/plain": [
       "[('\\n', 0.5563808083534241),\n",
       " ('', 0.10452341288328171),\n",
       " ('And', 0.06822796165943146),\n",
       " ('Now', 0.04549715295433998),\n",
       " ('The', 0.044508274644613266),\n",
       " ('A', 0.04053583741188049),\n",
       " ('You', 0.03975972905755043),\n",
       " ('When', 0.03753828629851341),\n",
       " ('Be', 0.03515499085187912),\n",
       " ('Remember', 0.027873560786247253)]"
      ]
     },
     "execution_count": 14,
     "metadata": {},
     "output_type": "execute_result"
    }
   ],
   "source": [
    "topk"
   ]
  },
  {
   "cell_type": "code",
   "execution_count": 15,
   "id": "8f7e7f15",
   "metadata": {},
   "outputs": [
    {
     "data": {
      "text/plain": [
       "'Context: Mary moved to the bathroom.\\nJohn went to the hallway.\\nQuestion: Where is Mary?\\nAnswer: 10 feet away.\\nJohn went to the kitchen.\\nQuestion: Where is the stove?\\nAnswer: 10 feet away.\\nJohn went to the living room.\\nQuestion: Where is the TV?\\nAnswer: '"
      ]
     },
     "execution_count": 15,
     "metadata": {},
     "output_type": "execute_result"
    }
   ],
   "source": [
    "output"
   ]
  },
  {
   "cell_type": "code",
   "execution_count": null,
   "id": "129f96aa",
   "metadata": {},
   "outputs": [],
   "source": []
  }
 ],
 "metadata": {
  "kernelspec": {
   "display_name": "env2",
   "language": "python",
   "name": "python3"
  },
  "language_info": {
   "codemirror_mode": {
    "name": "ipython",
    "version": 3
   },
   "file_extension": ".py",
   "mimetype": "text/x-python",
   "name": "python",
   "nbconvert_exporter": "python",
   "pygments_lexer": "ipython3",
   "version": "3.9.23"
  }
 },
 "nbformat": 4,
 "nbformat_minor": 5
}
