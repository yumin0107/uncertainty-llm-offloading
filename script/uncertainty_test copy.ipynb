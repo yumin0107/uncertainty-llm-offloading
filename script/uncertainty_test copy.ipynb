{
 "cells": [
  {
   "cell_type": "code",
   "execution_count": null,
   "id": "85ec82d1",
   "metadata": {},
   "outputs": [],
   "source": [
    "import sys\n",
    "import os\n",
    "import argparse\n",
    "import random\n",
    "\n",
    "SCRIPT_DIR = os.getcwd()\n",
    "PROJECT_ROOT = os.path.dirname(SCRIPT_DIR)\n",
    "SRC_DIR = os.path.join(PROJECT_ROOT, \"src\")\n",
    "if SRC_DIR not in sys.path:\n",
    "    sys.path.append(SRC_DIR)\n",
    "\n",
    "# Third-party\n",
    "import numpy as np\n",
    "import torch\n",
    "import tensorflow as tf\n",
    "from datasets import load_dataset\n",
    "\n",
    "# Communication\n",
    "from basestation import User, EdgeServer\n",
    "from user_association import uncertainty_aware_offloading\n",
    "from utils import (\n",
    "    generate_rayleigh_coeffs,\n",
    "    bit_size_text,\n",
    ")\n",
    "from config import (\n",
    "    BANDWIDTH,\n",
    "    TRANSMIT_POWER,\n",
    "    NOISE_POWER,\n",
    "    LOCAL_COMPUTE_CAP,\n",
    "    EDGE_COMPUTE_CAP,\n",
    "    MAX_COMPUTE_PER_USER,\n",
    "    SLM,\n",
    "    LLM,\n",
    "    K,\n",
    ")\n",
    "\n",
    "# LLM\n",
    "from model.huggingface_model import HuggingfaceModel\n",
    "from model import get_model"
   ]
  },
  {
   "cell_type": "code",
   "execution_count": 3,
   "id": "eeab4b4a",
   "metadata": {},
   "outputs": [
    {
     "data": {
      "application/vnd.jupyter.widget-view+json": {
       "model_id": "84369cd13c9145b1895ee8172b5be11d",
       "version_major": 2,
       "version_minor": 0
      },
      "text/plain": [
       "Loading checkpoint shards:   0%|          | 0/4 [00:00<?, ?it/s]"
      ]
     },
     "metadata": {},
     "output_type": "display_data"
    }
   ],
   "source": [
    "model = get_model(LLM)"
   ]
  },
  {
   "cell_type": "code",
   "execution_count": 4,
   "id": "678fc498",
   "metadata": {},
   "outputs": [
    {
     "name": "stderr",
     "output_type": "stream",
     "text": [
      "Repo card metadata block was not found. Setting CardData to empty.\n"
     ]
    }
   ],
   "source": [
    "dataset_ = load_dataset(\"Muennighoff/babi\", split=\"train\")\n",
    "exclude_tasks = [7, 8, 19]\n",
    "dataset = dataset_.filter(lambda example: example[\"task\"] not in exclude_tasks)"
   ]
  },
  {
   "cell_type": "code",
   "execution_count": 5,
   "id": "6aea64f8",
   "metadata": {},
   "outputs": [],
   "source": [
    "import re\n",
    "\n",
    "\n",
    "def is_correct(prediction: str, answer: str) -> bool:\n",
    "    prediction = prediction.strip().lower()\n",
    "    answer = answer.strip().lower()\n",
    "    return re.search(rf\"\\b{re.escape(answer)}\\b\", prediction) is not None"
   ]
  },
  {
   "cell_type": "code",
   "execution_count": null,
   "id": "b93626c0",
   "metadata": {},
   "outputs": [
    {
     "name": "stderr",
     "output_type": "stream",
     "text": [
      "The following generation flags are not valid and may be ignored: ['temperature', 'top_p']. Set `TRANSFORMERS_VERBOSITY=info` for more details.\n"
     ]
    },
    {
     "name": "stderr",
     "output_type": "stream",
     "text": [
      "The following generation flags are not valid and may be ignored: ['temperature', 'top_p']. Set `TRANSFORMERS_VERBOSITY=info` for more details.\n",
      "Setting `pad_token_id` to `eos_token_id`:128001 for open-end generation.\n"
     ]
    },
    {
     "name": "stdout",
     "output_type": "stream",
     "text": [
      "592000000000.0\n",
      "expect: 0.00650120799472875\n",
      "real: 0.1215822696685791\n"
     ]
    },
    {
     "ename": "",
     "evalue": "",
     "output_type": "error",
     "traceback": [
      "\u001b[1;31mThe Kernel crashed while executing code in the current cell or a previous cell. \n",
      "\u001b[1;31mPlease review the code in the cell(s) to identify a possible cause of the failure. \n",
      "\u001b[1;31mClick <a href='https://aka.ms/vscodeJupyterKernelCrash'>here</a> for more info. \n",
      "\u001b[1;31mView Jupyter <a href='command:jupyter.viewOutput'>log</a> for further details."
     ]
    }
   ],
   "source": [
    "passage = dataset[0][\"passage\"]\n",
    "question = dataset[0][\"question\"]\n",
    "answer = dataset[0][\"answer\"]\n",
    "input = (\n",
    "    f\"Instruction: Answer with only one word. No explanation.\"\n",
    "    f\"Context: {passage.strip()}\\n\"\n",
    "    f\"Question: {question.strip()}\\n\"\n",
    "    f\"Answer(only one word):\"\n",
    ")\n",
    "output, time = model.generate(input)\n",
    "prediction = output[len(input) :]\n",
    "tokens = model.tokenizer.encode(input, truncation=True)\n",
    "wl = len(tokens) * 2 * 8e9\n",
    "t_comp = wl / LOCAL_COMPUTE_CAP\n",
    "print(wl)\n",
    "print(f\"expect: {t_comp}\")\n",
    "print(f\"real: {time}\")"
   ]
  }
 ],
 "metadata": {
  "kernelspec": {
   "display_name": "env2",
   "language": "python",
   "name": "python3"
  },
  "language_info": {
   "codemirror_mode": {
    "name": "ipython",
    "version": 3
   },
   "file_extension": ".py",
   "mimetype": "text/x-python",
   "name": "python",
   "nbconvert_exporter": "python",
   "pygments_lexer": "ipython3",
   "version": "3.9.23"
  }
 },
 "nbformat": 4,
 "nbformat_minor": 5
}
